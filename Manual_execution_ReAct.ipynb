{
 "cells": [
  {
   "cell_type": "code",
   "execution_count": 1,
   "id": "40bcd6da",
   "metadata": {},
   "outputs": [],
   "source": [
    "from Prompts import prompter\n",
    "from dotenv import load_dotenv\n",
    "import os\n",
    "from google import genai\n",
    "\n",
    "load_dotenv()\n",
    "api_key = os.getenv(\"GEMINI_API_KEY\")\n",
    "\n",
    "client = genai.Client()"
   ]
  },
  {
   "cell_type": "code",
   "execution_count": 2,
   "id": "8b9f1540",
   "metadata": {},
   "outputs": [],
   "source": [
    "import json\n",
    "\n",
    "# Path to your JSON file\n",
    "file_path = \"Datasets/network_analysis_1/na1.json\"\n",
    "\n",
    "# Load the JSON content\n",
    "with open(file_path, \"r\") as f:\n",
    "    data = json.load(f)\n",
    "\n",
    "# Extract parts from the JSON\n",
    "scenario = data[\"scenario\"]\n",
    "tools = data[\"tools\"]\n",
    "questions = data[\"questions\"]\n",
    "file=data[\"files\"]\n",
    "\n"
   ]
  },
  {
   "cell_type": "code",
   "execution_count": 8,
   "id": "06b9ed23",
   "metadata": {},
   "outputs": [
    {
     "name": "stdout",
     "output_type": "stream",
     "text": [
      "🧠 Thought generated for question 1: To identify the private IP address of the infected host, I need to list the IP addresses involved in the network traffic captured in the PCAP file. A good first step is to get a summary of all IP conversations. This will show which IP addresses are communicating with each other. By inspecting this list, I can look for an IP address that falls into the private (RFC 1918) address space (10.0.0.0/8, 172.16.0.0/12, 192.168.0.0/16). This private IP is almost certainly the infected internal host. The `tshark` tool has a feature to display IP conversations, which is perfect for this purpose.\n",
      "🛠️ Please execute this command for question 1: command: tshark -r Datasets/network_analysis_1/traffic-with-dridex-infection.pcap -q -z conv,ip\n",
      "📜 [{'previous Thought': ['To identify the private IP address of the infected host, I need to list the IP addresses involved in the network traffic captured in the PCAP file. A good first step is to get a summary of all IP conversations. This will show which IP addresses are communicating with each other. By inspecting this list, I can look for an IP address that falls into the private (RFC 1918) address space (10.0.0.0/8, 172.16.0.0/12, 192.168.0.0/16). This private IP is almost certainly the infected internal host. The `tshark` tool has a feature to display IP conversations, which is perfect for this purpose.'], 'previous command': ['command: tshark -r Datasets/network_analysis_1/traffic-with-dridex-infection.pcap -q -z conv,ip'], 'previous command output': ['================================================================================ IPv4 Conversations Filter:<No Filter>                                                |       <-      | |       ->      | |     Total     |    Relative    |   Duration   |                                                | Frames  Bytes | | Frames  Bytes | | Frames  Bytes |      Start     |              | 10.11.27.101         <-> 83.166.247.211           333 64 kB         378 52 kB         711 117 kB       99.256729000      2424.2444 10.11.27.101         <-> 95.181.198.231           406 537 kB        152 8,742 bytes     558 546 kB        2.123144000       537.1739 10.11.27.101         <-> 176.32.33.108            302 394 kB        156 10 kB         458 404 kB       24.283321000         5.8906 10.11.27.101         <-> 172.106.33.46             39 6,921 bytes      40 20 kB          79 27 kB       698.722003000      1457.7267 10.11.27.101         <-> 185.158.251.55            38 6,771 bytes      39 20 kB          77 27 kB       838.328764000      1464.5101 10.11.27.101         <-> 174.34.253.11             38 6,321 bytes      39 20 kB          77 26 kB       990.749952000      1447.6811 10.11.27.101         <-> 185.244.150.230           37 6,507 bytes      39 20 kB          76 27 kB       524.881874000      1466.4519 10.11.27.101         <-> 10.11.27.1                 6 1,015 bytes       5 377 bytes      11 1,392 bytes     0.000000000      2118.5054 10.11.27.101         <-> 208.67.222.222             3 336 bytes       3 239 bytes       6 575 bytes    96.715429000         0.1224 ================================================================================']}]\n",
      "🧠 Thought generated for question 1: The previous command output shows a list of IP conversations. The IP address `10.11.27.101` is present in every conversation, communicating with multiple external public IP addresses. This IP falls within the RFC 1918 private address range (10.0.0.0/8) and is the internal host initiating the suspicious connections. The answer is clearly identifiable from this output.\n",
      "✅ Answer to the question 1: 10.11.27.101\n",
      "🧠 Thought generated for question 2: The scenario involves a macro-enabled document downloading a payload. This download likely occurred over HTTP. I need to inspect the HTTP traffic within the PCAP file to identify any downloaded files. `tshark` is the ideal tool for this. I will filter for HTTP GET requests, which are used to retrieve content from a web server, and examine the requested URIs to find the filename of the payload. I'll look for suspicious file extensions like `.exe` or `.dll`.\n",
      "🛠️ Please execute this command for question 2: command: tshark -r Datasets/network_analysis_1/traffic-with-dridex-infection.pcap -Y 'http.request.method == \"GET\"' -T fields -e http.host -e http.request.uri\n",
      "📜 [{'previous Thought': [\"The scenario involves a macro-enabled document downloading a payload. This download likely occurred over HTTP. I need to inspect the HTTP traffic within the PCAP file to identify any downloaded files. `tshark` is the ideal tool for this. I will filter for HTTP GET requests, which are used to retrieve content from a web server, and examine the requested URIs to find the filename of the payload. I'll look for suspicious file extensions like `.exe` or `.dll`.\"], 'previous command': ['command: tshark -r Datasets/network_analysis_1/traffic-with-dridex-infection.pcap -Y \\'http.request.method == \"GET\"\\' -T fields -e http.host -e http.request.uri'], 'previous command output': ['klychenogg.com\\t/QIC/tewokl.php?l=spet10.spr cochrimato.com\\t/images/Ni18Y6iE7It/2n7ExsnSSVD_2B/MZmcabxQ0PN5pAfZiP5tR/8uWdxGPb7Lp1Xq9N/ytalso_2FocgBTt/WVGwqXZT52jiw_2Fng/ACRK_2BMb/siSbmUR4eCjr_2FxBE_2/F_2BRSuCdY3cNhAkTe3/ih34K9F_2BEPab_2Fe3LQL/ojw.avi cochrimato.com\\t/favicon.ico cochrimato.com\\t/images/Uc2TJpGPts/FfQPYEIa9cTp5xG8L/AUMvwh_2BfkS/KHH9nBajBga/CFOseePlQGP3uA/KJPe11hiQDHCk_2BbeiOL/YuHqJsSILkt66ATG/9wURfqTdnBvA0M7/Iy1RarqI0V_2F8d2E4/3z4rUWOPB/P4F9VFvkukW6Xm1XhKms/nSgG4NlF2mIvH/6.avi cochrimato.com\\t/images/uBxH2MFy6S/hg55JPrbSW8z08kmV/1zIZTmRDciS2/THzW_2BExk3/nOo4z84r5bzl6K/InG1GFDsetdgpjObwoX9i/dT1Z30Sqb7sHvH8i/53pGHUjybAZn5Wx/pxD8psftbSu5AQPXR_/2F_2Fn5Ptt4H5vE/timxEQW.avi 95.181.198.231\\t/oiioiashdqbwe.rar']}]\n",
      "🧠 Thought generated for question 2: The previous command's output listed all HTTP GET requests. One of these requests is to a raw IP address for a `.rar` file. This is highly suspicious and is the most likely candidate for the malware binary being retrieved. The filename is clearly visible in the output. I can now answer the question.\n",
      "✅ Answer to the question 2: oiioiashdqbwe.rar\n",
      "🧠 Thought generated for question 3: I need to analyze the provided PCAP file to identify HTTP traffic. Specifically, I'm looking for HTTP GET requests where the requested URI path starts with `/images/`. Once I find these requests, I need to extract the `Host` header value, which corresponds to the domain name.\n",
      "\n",
      "The `tshark` tool is the most suitable for this task because it can parse and filter HTTP protocol fields directly.\n",
      "\n",
      "My plan is to use `tshark` with a display filter to isolate the relevant packets and then extract the `http.host` field. The display filter will combine two conditions: `http.request.method == \"GET\"` and `http.request.uri contains \"/images/\"`.\n",
      "🛠️ Please execute this command for question 3: command: tshark -r Datasets/network_analysis_1/traffic-with-dridex-infection.pcap -Y 'http.request.method == \"GET\" && http.request.uri contains \"/images/\"' -T fields -e http.host\n",
      "📜 [{'previous Thought': ['I need to analyze the provided PCAP file to identify HTTP traffic. Specifically, I\\'m looking for HTTP GET requests where the requested URI path starts with `/images/`. Once I find these requests, I need to extract the `Host` header value, which corresponds to the domain name.\\n\\nThe `tshark` tool is the most suitable for this task because it can parse and filter HTTP protocol fields directly.\\n\\nMy plan is to use `tshark` with a display filter to isolate the relevant packets and then extract the `http.host` field. The display filter will combine two conditions: `http.request.method == \"GET\"` and `http.request.uri contains \"/images/\"`.'], 'previous command': ['command: tshark -r Datasets/network_analysis_1/traffic-with-dridex-infection.pcap -Y \\'http.request.method == \"GET\" && http.request.uri contains \"/images/\"\\' -T fields -e http.host'], 'previous command output': ['cochrimato.com cochrimato.com cochrimato.com']}]\n",
      "🧠 Thought generated for question 3: The previous command successfully filtered the PCAP for HTTP GET requests with `/images/` in the URI and extracted the `http.host` field. The output `cochrimato.com cochrimato.com cochrimato.com` clearly and consistently shows the domain from which these requests originated. The task is now to format this information as the final answer.\n",
      "✅ Answer to the question 3: cochrimato.com\n",
      "🧠 Thought generated for question 4: The goal is to find a URL ending in `.rar` from the provided PCAP file. Since the URL format is `http://...`, I should start by inspecting the HTTP traffic within the capture. I will use `tshark` to filter for HTTP GET requests and extract the requested URIs to see if any of them match the `.rar` file extension.\n",
      "🛠️ Please execute this command for question 4: command: tshark -r Datasets/network_analysis_1/traffic-with-dridex-infection.pcap -Y \"http.request\" -T fields -e http.host -e http.request.uri\n",
      "📜 [{'previous Thought': ['The goal is to find a URL ending in `.rar` from the provided PCAP file. Since the URL format is `http://...`, I should start by inspecting the HTTP traffic within the capture. I will use `tshark` to filter for HTTP GET requests and extract the requested URIs to see if any of them match the `.rar` file extension.'], 'previous command': ['command: tshark -r Datasets/network_analysis_1/traffic-with-dridex-infection.pcap -Y \"http.request\" -T fields -e http.host -e http.request.uri'], 'previous command output': ['klychenogg.com\\t/QIC/tewokl.php?l=spet10.spr cochrimato.com\\t/images/Ni18Y6iE7It/2n7ExsnSSVD_2B/MZmcabxQ0PN5pAfZiP5tR/8uWdxGPb7Lp1Xq9N/ytalso_2FocgBTt/WVGwqXZT52jiw_2Fng/ACRK_2BMb/siSbmUR4eCjr_2FxBE_2/F_2BRSuCdY3cNhAkTe3/ih34K9F_2BEPab_2Fe3LQL/ojw.avi cochrimato.com\\t/favicon.ico cochrimato.com\\t/images/Uc2TJpGPts/FfQPYEIa9cTp5xG8L/AUMvwh_2BfkS/KHH9nBajBga/CFOseePlQGP3uA/KJPe11hiQDHCk_2BbeiOL/YuHqJsSILkt66ATG/9wURfqTdnBvA0M7/Iy1RarqI0V_2F8d2E4/3z4rUWOPB/P4F9VFvkukW6Xm1XhKms/nSgG4NlF2mIvH/6.avi cochrimato.com\\t/images/uBxH2MFy6S/hg55JPrbSW8z08kmV/1zIZTmRDciS2/THzW_2BExk3/nOo4z84r5bzl6K/InG1GFDsetdgpjObwoX9i/dT1Z30Sqb7sHvH8i/53pGHUjybAZn5Wx/pxD8psftbSu5AQPXR_/2F_2Fn5Ptt4H5vE/timxEQW.avi 95.181.198.231\\t/oiioiashdqbwe.rar']}]\n",
      "🧠 Thought generated for question 4: The previous command's output has identified an HTTP request to an IP address for a file ending in `.rar`. I have the IP address (host) and the file path (URI). I can now construct the full URL as requested by the question.\n",
      "✅ Answer to the question 4: http://95.181.198.231/oiioiashdqbwe.rar\n",
      "🧠 Thought generated for question 5: I need to find an IP address that starts with \"185.\" from the provided PCAP file. I will use tshark to read the PCAP and apply a display filter to search for any packets where either the source or destination IP address matches the pattern \"185.*.*.*\". This should isolate the Dridex C2 communication and reveal the full IP address.\n",
      "🛠️ Please execute this command for question 5: command: tshark -r Datasets/network_analysis_1/traffic-with-dridex-infection.pcap -Y 'ip.addr starts_with \"185.\"' -T fields -e ip.src -e ip.dst\n",
      "📜 [{'previous Thought': ['I need to find an IP address that starts with \"185.\" from the provided PCAP file. I will use tshark to read the PCAP and apply a display filter to search for any packets where either the source or destination IP address matches the pattern \"185.*.*.*\". This should isolate the Dridex C2 communication and reveal the full IP address.'], 'previous command': ['command: tshark -r Datasets/network_analysis_1/traffic-with-dridex-infection.pcap -Y \\'ip.addr starts_with \"185.\"\\' -T fields -e ip.src -e ip.dst'], 'previous command output': ['tshark: \"starts_with\" was unexpected in this context.     ip.addr starts_with \"185.\"             ^~~~~~~~~~~']}]\n",
      "🧠 Thought generated for question 5: The previous `tshark` command failed due to an invalid filter operator. The `starts_with` operator is not supported. I need to use a valid filter syntax to find IP addresses within the `185.0.0.0/8` range. A correct way to do this is using CIDR notation, such as `ip.addr == 185.0.0.0/8`. I will modify the command to use this correct filter and then process the output to extract the unique IP address that begins with \"185.\".\n",
      "🛠️ Please execute this command for question 5: command: tshark -r Datasets/network_analysis_1/traffic-with-dridex-infection.pcap -Y 'ip.addr == 185.0.0.0/8' -T fields -e ip.src -e ip.dst | tr '\\t' '\\n' | grep '^185\\.' | sort -u\n",
      "📜 [{'previous Thought': ['I need to find an IP address that starts with \"185.\" from the provided PCAP file. I will use tshark to read the PCAP and apply a display filter to search for any packets where either the source or destination IP address matches the pattern \"185.*.*.*\". This should isolate the Dridex C2 communication and reveal the full IP address.'], 'previous command': ['command: tshark -r Datasets/network_analysis_1/traffic-with-dridex-infection.pcap -Y \\'ip.addr starts_with \"185.\"\\' -T fields -e ip.src -e ip.dst'], 'previous command output': ['tshark: \"starts_with\" was unexpected in this context.     ip.addr starts_with \"185.\"             ^~~~~~~~~~~']}, {'previous Thought': ['The previous `tshark` command failed due to an invalid filter operator. The `starts_with` operator is not supported. I need to use a valid filter syntax to find IP addresses within the `185.0.0.0/8` range. A correct way to do this is using CIDR notation, such as `ip.addr == 185.0.0.0/8`. I will modify the command to use this correct filter and then process the output to extract the unique IP address that begins with \"185.\".'], 'previous command': [\"command: tshark -r Datasets/network_analysis_1/traffic-with-dridex-infection.pcap -Y 'ip.addr == 185.0.0.0/8' -T fields -e ip.src -e ip.dst | tr '\\\\t' '\\\\n' | grep '^185\\\\.' | sort -u\"], 'previous command output': ['185.158.251.55 185.244.150.230']}]\n",
      "🧠 Thought generated for question 5: The previous command successfully identified two potential Dridex C2 servers: `185.158.251.55` and `185.244.150.230`. Since the question asks for a single IP address, I need to differentiate between them to find the correct one. A logical method to break the tie is to determine which C2 server the infected host communicated with first. I can do this by examining the PCAP chronologically and stopping at the first packet that involves either of these two IPs. The destination IP in that initial communication will be the primary C2 server and the likely answer.\n",
      "🛠️ Please execute this command for question 5: command: tshark -r Datasets/network_analysis_1/traffic-with-dridex-infection.pcap -Y 'ip.addr == 185.158.251.55 or ip.addr == 185.244.150.230' -c 1 -T fields -e ip.dst\n",
      "📜 [{'previous Thought': ['I need to find an IP address that starts with \"185.\" from the provided PCAP file. I will use tshark to read the PCAP and apply a display filter to search for any packets where either the source or destination IP address matches the pattern \"185.*.*.*\". This should isolate the Dridex C2 communication and reveal the full IP address.'], 'previous command': ['command: tshark -r Datasets/network_analysis_1/traffic-with-dridex-infection.pcap -Y \\'ip.addr starts_with \"185.\"\\' -T fields -e ip.src -e ip.dst'], 'previous command output': ['tshark: \"starts_with\" was unexpected in this context.     ip.addr starts_with \"185.\"             ^~~~~~~~~~~']}, {'previous Thought': ['The previous `tshark` command failed due to an invalid filter operator. The `starts_with` operator is not supported. I need to use a valid filter syntax to find IP addresses within the `185.0.0.0/8` range. A correct way to do this is using CIDR notation, such as `ip.addr == 185.0.0.0/8`. I will modify the command to use this correct filter and then process the output to extract the unique IP address that begins with \"185.\".'], 'previous command': [\"command: tshark -r Datasets/network_analysis_1/traffic-with-dridex-infection.pcap -Y 'ip.addr == 185.0.0.0/8' -T fields -e ip.src -e ip.dst | tr '\\\\t' '\\\\n' | grep '^185\\\\.' | sort -u\"], 'previous command output': ['185.158.251.55 185.244.150.230']}, {'previous Thought': ['The previous command successfully identified two potential Dridex C2 servers: `185.158.251.55` and `185.244.150.230`. Since the question asks for a single IP address, I need to differentiate between them to find the correct one. A logical method to break the tie is to determine which C2 server the infected host communicated with first. I can do this by examining the PCAP chronologically and stopping at the first packet that involves either of these two IPs. The destination IP in that initial communication will be the primary C2 server and the likely answer.'], 'previous command': [\"command: tshark -r Datasets/network_analysis_1/traffic-with-dridex-infection.pcap -Y 'ip.addr == 185.158.251.55 or ip.addr == 185.244.150.230' -c 1 -T fields -e ip.dst\"], 'previous command output': ['']}]\n",
      "🧠 Thought generated for question 5: The last command yielded no output, which is strange given the previous command found two IPs. The filter `'ip.addr == 185.158.251.55 or ip.addr == 185.244.150.230'` should be valid. The issue might be with the combination of `-c 1` and `-T fields -e ip.dst`. Perhaps the very first frame doesn't have an `ip.dst` field in the way tshark expects, or something else is wrong with the command logic.\n",
      "\n",
      "I need to re-examine the traffic involving these two IPs to determine which one is the initial C2 server. Instead of trying to be clever with `-c 1`, I'll list all communications with these IPs in chronological order and examine the first few lines. This will clearly show which IP the infected host contacted first. I'll display the frame number, source IP, and destination IP to understand the sequence of events.\n",
      "🛠️ Please execute this command for question 5: command: tshark -r Datasets/network_analysis_1/traffic-with-dridex-infection.pcap -Y 'ip.addr == 185.158.251.55 or ip.addr == 185.244.150.230' -T fields -e ip.src -e ip.dst | head -n 1\n",
      "📜 [{'previous Thought': ['I need to find an IP address that starts with \"185.\" from the provided PCAP file. I will use tshark to read the PCAP and apply a display filter to search for any packets where either the source or destination IP address matches the pattern \"185.*.*.*\". This should isolate the Dridex C2 communication and reveal the full IP address.'], 'previous command': ['command: tshark -r Datasets/network_analysis_1/traffic-with-dridex-infection.pcap -Y \\'ip.addr starts_with \"185.\"\\' -T fields -e ip.src -e ip.dst'], 'previous command output': ['tshark: \"starts_with\" was unexpected in this context.     ip.addr starts_with \"185.\"             ^~~~~~~~~~~']}, {'previous Thought': ['The previous `tshark` command failed due to an invalid filter operator. The `starts_with` operator is not supported. I need to use a valid filter syntax to find IP addresses within the `185.0.0.0/8` range. A correct way to do this is using CIDR notation, such as `ip.addr == 185.0.0.0/8`. I will modify the command to use this correct filter and then process the output to extract the unique IP address that begins with \"185.\".'], 'previous command': [\"command: tshark -r Datasets/network_analysis_1/traffic-with-dridex-infection.pcap -Y 'ip.addr == 185.0.0.0/8' -T fields -e ip.src -e ip.dst | tr '\\\\t' '\\\\n' | grep '^185\\\\.' | sort -u\"], 'previous command output': ['185.158.251.55 185.244.150.230']}, {'previous Thought': ['The previous command successfully identified two potential Dridex C2 servers: `185.158.251.55` and `185.244.150.230`. Since the question asks for a single IP address, I need to differentiate between them to find the correct one. A logical method to break the tie is to determine which C2 server the infected host communicated with first. I can do this by examining the PCAP chronologically and stopping at the first packet that involves either of these two IPs. The destination IP in that initial communication will be the primary C2 server and the likely answer.'], 'previous command': [\"command: tshark -r Datasets/network_analysis_1/traffic-with-dridex-infection.pcap -Y 'ip.addr == 185.158.251.55 or ip.addr == 185.244.150.230' -c 1 -T fields -e ip.dst\"], 'previous command output': ['']}, {'previous Thought': [\"The last command yielded no output, which is strange given the previous command found two IPs. The filter `'ip.addr == 185.158.251.55 or ip.addr == 185.244.150.230'` should be valid. The issue might be with the combination of `-c 1` and `-T fields -e ip.dst`. Perhaps the very first frame doesn't have an `ip.dst` field in the way tshark expects, or something else is wrong with the command logic.\\n\\nI need to re-examine the traffic involving these two IPs to determine which one is the initial C2 server. Instead of trying to be clever with `-c 1`, I'll list all communications with these IPs in chronological order and examine the first few lines. This will clearly show which IP the infected host contacted first. I'll display the frame number, source IP, and destination IP to understand the sequence of events.\"], 'previous command': [\"command: tshark -r Datasets/network_analysis_1/traffic-with-dridex-infection.pcap -Y 'ip.addr == 185.158.251.55 or ip.addr == 185.244.150.230' -T fields -e ip.src -e ip.dst | head -n 1\"], 'previous command output': ['10.11.27.101\\t185.244.150.230']}]\n",
      "🧠 Thought generated for question 5: The previous command `tshark -r Datasets/network_analysis_1/traffic-with-dridex-infection.pcap -Y 'ip.addr == 185.158.251.55 or ip.addr == 185.244.150.230' -T fields -e ip.src -e ip.dst | head -n 1` successfully identified the first communication involving an IP address starting with \"185.\". The output shows the source IP `10.11.27.101` (the infected host) communicating with the destination IP `185.244.150.230`. This destination IP is the first C2 server contacted and thus answers the question. The investigation is complete.\n",
      "✅ Answer to the question 5: 185.244.150.230\n",
      "✅ Task finished.\n"
     ]
    }
   ],
   "source": [
    "Answer_list=[]\n",
    "for i in range(0, len(questions)):\n",
    "\n",
    "    j = 0\n",
    "    max_attempts = 4 #max per question\n",
    "    history=[]  #here only used to store (thought, action, observation)\n",
    "    \n",
    "    prompt = prompter.prompt_manual_thought(i, scenario, tools, file, questions, history) #prompt that trigger thought\n",
    "    \n",
    "    response = client.models.generate_content(    # generates thought\n",
    "        model=\"gemini-2.5-pro\", contents=prompt\n",
    "    )\n",
    "    thought=response.text\n",
    "\n",
    "    print(f\"🧠 Thought generated for question {i+1}: {thought}\")\n",
    "    prompt=prompter.prompt_manual_action(i,scenario,tools, file,questions, history, thought) #prompt to generate action\n",
    "\n",
    "    response = client.models.generate_content(    # generates command based on the thought\n",
    "        model=\"gemini-2.5-pro\", contents=prompt\n",
    "    )\n",
    "    action=response.text\n",
    "    \n",
    "    print(f\"🛠️ Please execute this command for question {i+1}: {action}\")\n",
    "    \n",
    "    while j < max_attempts:\n",
    "\n",
    "        user_command_output = input(\"\"\"Please paste the command's output here or type \"0\" to skip question :\\n\"\"\")\n",
    "        if user_command_output== \"0\":\n",
    "            print(f\"⛔ Skipped question {i+1}.\")\n",
    "            Answer_list.append(\"Skipped\")\n",
    "            break\n",
    "        #user_command_output = user_command_output[:1000]   # Limit to 500 characters(long outputs ruins agent's performance+ take long time)\n",
    "        history.append({\"previous Thought\": [thought],\"previous command\": [action], \"previous command output\": [user_command_output]})\n",
    "        print(f\"📜 {history}\")\n",
    "        prompt = prompter.prompt_manual_thought(i, scenario, tools, file, questions, history)  # prompt to generate next thought\n",
    "        \n",
    "        response = client.models.generate_content(       # generates next thought based on the command output\n",
    "            model=\"gemini-2.5-pro\",\n",
    "            contents=prompt\n",
    "        )\n",
    "        thought = response.text\n",
    "\n",
    "        print(f\"🧠 Thought generated for question {i+1}: {thought}\")\n",
    "\n",
    "        prompt=prompter.prompt_manual_action(i,scenario,tools, file,questions, history, thought) #prompt to generate action\n",
    "\n",
    "        response = client.models.generate_content(    # generates command based on the thought\n",
    "            model=\"gemini-2.5-pro\", contents=prompt\n",
    "        )\n",
    "        action=response.text\n",
    "        \n",
    "        \n",
    "\n",
    "        if \"final answer:\" in action.lower():\n",
    "            text = action.strip()\n",
    "            answer_part = text.lower().split(\"final answer:\")[-1].strip()\n",
    "            print(f\"✅ Answer to the question {i+1}: {answer_part}\")\n",
    "            Answer_list.append(answer_part)\n",
    "            break\n",
    "        else:\n",
    "            print(f\"🛠️ Please execute this command for question {i+1}: {action}\")            \n",
    "        \n",
    "        j += 1\n",
    "    if j == max_attempts:\n",
    "        Answer_list.append(\"Answer not found\")  \n",
    "\n",
    "print(\"✅ Task finished.\")        \n"
   ]
  },
  {
   "cell_type": "code",
   "execution_count": 9,
   "id": "96416eff",
   "metadata": {},
   "outputs": [
    {
     "name": "stdout",
     "output_type": "stream",
     "text": [
      "['10.11.27.101', 'oiioiashdqbwe.rar', 'cochrimato.com', 'http://95.181.198.231/oiioiashdqbwe.rar', '185.244.150.230']\n"
     ]
    }
   ],
   "source": [
    "print(Answer_list)\n"
   ]
  },
  {
   "cell_type": "code",
   "execution_count": 10,
   "id": "ed50709b",
   "metadata": {},
   "outputs": [
    {
     "name": "stdout",
     "output_type": "stream",
     "text": [
      "Answers saved to Evaluation/manual/ReAct/na1.txt\n"
     ]
    }
   ],
   "source": [
    "#saves all the answers to a file for evaluation\n",
    "base_name = os.path.splitext(os.path.basename(file_path))[0]\n",
    "\n",
    "output_file = os.path.join(\"Evaluation\",\"manual\",\"ReAct\", f\"{base_name}.txt\")\n",
    "\n",
    "with open(output_file, 'w') as f:\n",
    "    for answer in Answer_list:\n",
    "        f.write(answer + \"\\n\")\n",
    "\n",
    "print(f\"Answers saved to {output_file}\")"
   ]
  }
 ],
 "metadata": {
  "kernelspec": {
   "display_name": "venv",
   "language": "python",
   "name": "python3"
  },
  "language_info": {
   "codemirror_mode": {
    "name": "ipython",
    "version": 3
   },
   "file_extension": ".py",
   "mimetype": "text/x-python",
   "name": "python",
   "nbconvert_exporter": "python",
   "pygments_lexer": "ipython3",
   "version": "3.12.3"
  }
 },
 "nbformat": 4,
 "nbformat_minor": 5
}

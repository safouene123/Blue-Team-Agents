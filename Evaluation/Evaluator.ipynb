{
 "cells": [
  {
   "cell_type": "code",
   "execution_count": 44,
   "id": "df6aa5e3",
   "metadata": {},
   "outputs": [
    {
     "name": "stdout",
     "output_type": "stream",
     "text": [
      "[['amazon@zyevantoby.cn', 'saintington73@outlook.com', 'Your Account has been locked', 'amazon', 'wed, 14 Jul 2021 01:40:32 +0900', 'https://emea01.safelinks.protection.outlook.com/?url=https%3A%2F%2Famaozn.zzyuchengzhika.cn%2F%3Fmailtoken%3Dsaintington73%40outlook.com&data=04%7C01%7C%7C70072381ba6e49d1d12d08d94632811e%7C84df9e7fe9f640afb435aaaaaaaaaaaa%7C1%7C0%7C637618004988892053%7CUnknown%7CTWFpbGZsb3d8eyJWIjoiMC4wLjAwMDAiLCJQIjoiV2luMzIiLCJBTiI6Ik1haWwiLCJXVCI6Mn0%3D%7C1000&sdata=oPvTW08ASiViZTLfMECsvwDvguT6ODYKPQZNK3203m0%3D&reserved=0', 'Base64', 'https://images.squarespace-cdn.com/content/52e2b6d3e4b06446e8bf13ed/1500584238342-OX2L298XVSKF8AO6I3SV/amazon-logo?format=750w&amp;content-type=image%2Fpng', 'amir.boyka.7'], ['e0b7a2ad2320ac32c262aeb6fe2c6c0d75449c6e34d0d18a531157c827b9754e', 'chaudhariparth454@gmail.com', 'yjghfdafsd5464562!', '587', 'user32.dll', 'temp'], ['10.11.27.101', 'spet10.spr', 'cochrimato.com', 'http://95.181.198.231/oiioiashdqbwe.rar', '185.244.150.230'], ['10.251.96.4', '1-1024', 'TCP SYN', 'gobuster 3.0.1, sqlmap 1.4.7', 'editprofile.php', 'dbfunctions.php', 'cmd', 'id', 'reverse', '4422']]\n"
     ]
    }
   ],
   "source": [
    "#load from json the true answers for each task\n",
    "import json\n",
    "\n",
    "def True_answers(file_path):\n",
    "    with open(file_path, \"r\") as f:\n",
    "        data = json.load(f)          \n",
    "    answers=data[\"answers\"]\n",
    "    return answers\n",
    "\n",
    "fa1_answers = True_answers(\"../Datasets/file_analysis_1/fa1.json\")\n",
    "fa2_answers = True_answers(\"../Datasets/file_analysis_2/fa2.json\")\n",
    "na1_answers = True_answers(\"../Datasets/network_analysis_1/na1.json\")  \n",
    "na2_answers = True_answers(\"../Datasets/network_analysis_2/na2.json\")\n",
    "\n",
    "answear_list=[fa1_answers, fa2_answers, na1_answers, na2_answers]\n",
    "print(answear_list)"
   ]
  },
  {
   "cell_type": "code",
   "execution_count": 45,
   "id": "ea03d012",
   "metadata": {},
   "outputs": [
    {
     "name": "stdout",
     "output_type": "stream",
     "text": [
      "[['amazon@zyevantoby.cn', 'saintington73@outlook.com', 'your account has been locked', 'amazon', 'wed, 14 jul 2021 01:40:32 +0900', 'Answer not found', 'utf-8', 'Answer not found', 'Answer not found'], ['e0b7a2ad2320ac32c262aeb6fe2c6c0d75449c6e34d0d18a531157c827b9754e', 'chaudhariparth454@gmail.com', 'yjghfdafsd5464562!', '587', 'user32.dll', 'temp'], ['10.11.27.101', 'oiioiashdqbwe.rar', 'cochrimato.com', 'http://95.181.198.231/oiioiashdqbwe.rar', '185.244.150.230'], ['10.251.96.4', '1-54284', 'tcp connect scan', 'Answer not found', 'upload.php', 'dbfunctions.php', 'Answer not found', 'Answer not found', 'Answer not found', 'Answer not found']] \n",
      "[['amazon@zyevantoby.cn', 'saintington73@outlook.com', 'your account has been locked', 'amazon', 'wed, 14 jul 2021 01:40:32 +0900', 'Answer not found', 'base64', 'Answer not found', 'Answer not found'], ['e0b7a2ad2320ac32c262aeb6fe2c6c0d75449c6e34d0d18a531157c827b9754e', 'chaudhariparth454@gmail.com', 'yjghfdafsd5464562!', '587', 'user32.dll', 'temp'], ['10.11.27.101', 'oiioiashdqbwe.rar', 'cochrimato.com', 'http://95.181.198.231/oiioiashdqbwe.rar', '185.244.150.230'], ['10.251.96.4', '1014-48994', 'tcp syn scan', 'Skipped', 'upload.php', 'Skipped', 'Skipped', 'Skipped', 'sh', '4422']] \n",
      "[['amazon@zyevantoby.cn', 'saintington73@outlook.com', 'your account has been locked', 'Answer not found', 'tue, 13 jul 2021 19:14:57 +0000', 'Answer not found', 'base64', 'Answer not found', 'Answer not found'], ['e0b7a2ad2320ac32c262aeb6fe2c6c0d75449c6e34d0d18a531157c827b9754e', 'chaudhariparth454@gmail.com', 'yjghfdafsd5464562!', '587', 'user32.dll', 'temp'], ['10.11.27.101', 'spet10.spr', 'cochrimato.com', 'http://95.181.198.231/oiioiashdqbwe.rar', '185.244.150.230'], ['10.251.96.4', '1-277', 'tcp connect scan', 'Answer not found', 'login.php', 'Answer not found', 'Answer not found', 'Answer not found', 'Answer not found', 'Answer not found']] \n",
      "[['amazon@zyevantoby.cn', 'saintington73@outlook.com', 'your account has been locked', 'amazon', 'tue, 13 jul 2021 19:14:58 +0000', 'Answer not found', 'base64', 'Answer not found', 'Answer not found'], ['e0b7a2ad2320ac32c262aeb6fe2c6c0d75449c6e34d0d18a531157c827b9754e', 'chaudhariparth454@gmail.com', 'yjghfdafsd5464562!', '587', 'user32.dll', 'temp'], ['10.11.27.101', 'spet10.spr', 'cochrimato.com', 'http://95.181.198.231/oiioiashdqbwe.rar', '185.244.150.230'], ['10.251.96.4', '1-152', 'tcp connect', 'Answer not found', 'Answer not found', 'Answer not found', 'Answer not found', 'Answer not found', 'ssh', 'Answer not found']]\n",
      "\n"
     ]
    }
   ],
   "source": [
    "import os\n",
    "#extract the agent answear in a list of lists\n",
    "def agent_answers(folder_path):\n",
    "    answers_per_file = []\n",
    "    for filename in sorted(os.listdir(folder_path)):\n",
    "        if filename.endswith(\".txt\"):\n",
    "            file_path = os.path.join(folder_path, filename)\n",
    "            with open(file_path, \"r\", encoding=\"utf-8\") as f:\n",
    "                lines = f.readlines()\n",
    "                answers = [line.strip() for line in lines if line.strip()]\n",
    "                answers_per_file.append(answers)\n",
    "    return answers_per_file\n",
    "\n",
    "\n",
    "Manual_ZeroShot = agent_answers(\"../Evaluation/manual/zero_shot\") \n",
    "Manual_ReAct = agent_answers(\"../Evaluation/manual/ReAct\")  \n",
    "TA_ZeroShot = agent_answers(\"../Evaluation/tool_augmented/zero_shot\")\n",
    "TA_ReAct = agent_answers(\"../Evaluation/tool_augmented/ReAct\")\n",
    "print(f\"{Manual_ZeroShot} \\n{Manual_ReAct} \\n{TA_ZeroShot} \\n{TA_ReAct}\\n\")"
   ]
  },
  {
   "cell_type": "code",
   "execution_count": 49,
   "id": "38f5dadf",
   "metadata": {},
   "outputs": [],
   "source": [
    "#now lets calculate the FS (fully solved) and PS (partially solved) metrics for each of the  4 agents\n",
    "def calculate_metrics(true_answers, agent_answers):\n",
    "    fs_count = 0\n",
    "    total_percentage = 0.0\n",
    "    total_scenarios = len(true_answers)\n",
    "\n",
    "    for i in range(total_scenarios):\n",
    "        correct_count = 0\n",
    "        total_questions = len(true_answers[i])\n",
    "\n",
    "        for j in range(total_questions):\n",
    "            if true_answers[i][j] == agent_answers[i][j]:\n",
    "                correct_count += 1\n",
    "                \n",
    "        if correct_count == total_questions:\n",
    "            fs_count += 1\n",
    "\n",
    "\n",
    "        else: total_percentage += (correct_count / total_questions) * 100\n",
    "\n",
    "    ps_average = total_percentage / (total_scenarios-fs_count) #average percentage of ps\n",
    "\n",
    "    return fs_count, ps_average\n",
    "  \n",
    "                \n"
   ]
  },
  {
   "cell_type": "code",
   "execution_count": 51,
   "id": "7106314c",
   "metadata": {},
   "outputs": [
    {
     "name": "stdout",
     "output_type": "stream",
     "text": [
      "Manual ZeroShot: FS=1, PS=44.44%\n",
      "Manual ReAct: FS=1, PS=44.44%\n",
      "TA ZeroShot: FS=2, PS=16.11%\n",
      "TA ReAct: FS=2, PS=21.67%\n",
      "\n"
     ]
    }
   ],
   "source": [
    "results = \"\"\n",
    "\n",
    "fs, ps = calculate_metrics(answear_list, Manual_ZeroShot)\n",
    "results += f\"Manual ZeroShot: FS={fs}, PS={ps:.2f}%\\n\"\n",
    "\n",
    "fs, ps = calculate_metrics(answear_list, Manual_ReAct)\n",
    "results += f\"Manual ReAct: FS={fs}, PS={ps:.2f}%\\n\"\n",
    "\n",
    "fs, ps = calculate_metrics(answear_list, TA_ZeroShot)\n",
    "results += f\"TA ZeroShot: FS={fs}, PS={ps:.2f}%\\n\"\n",
    "\n",
    "fs, ps = calculate_metrics(answear_list, TA_ReAct)\n",
    "results += f\"TA ReAct: FS={fs}, PS={ps:.2f}%\\n\"\n",
    "\n",
    "print(results)\n"
   ]
  },
  {
   "cell_type": "code",
   "execution_count": null,
   "id": "9c1c5e16",
   "metadata": {},
   "outputs": [],
   "source": [
    "f\"\"\" Observations\n",
    "Before diving into the results, it’s worth noting that the evaluation set was quite limited, so the metrics we observed \n",
    "(Fully Solved = FS, Partially Solved = PS) might not reflect general performance across a wider range of tasks. Still, \n",
    "they give a useful first look at the strengths and weaknesses of each method.\n",
    "\n",
    "{ Manual_ZeroShot: FS=1, PS=44.44%,\n",
    "  Manual_ReAct: FS=1, PS=44.44%\n",
    "  TA_ZeroShot: FS=2, PS=16.11%\n",
    "  TA_ReAct: FS=2, PS=21.67%\n",
    "}\n",
    "\n",
    "Tool-Augmented agents clearly outperformed Manual ones. Both TA agents fully solved 2 out of 4 tasks, compared to just 1 for each Manual \n",
    "agent. This seems to show that giving the agent access to external tools (like command outputs) adds a lot of value.\n",
    "\n",
    "One big reason for the better tool-augmented performance is probably the prompt structure. In the manual version, we only gave one or two\n",
    "prompts total. But for the TA agents, each tool interaction had its own tailored prompt, which allowed the agent to reason more clearly\n",
    "step by step.\n",
    "\n",
    "ReAct prompting performed slightly better than ZeroShot in the tool-augmented case (21.67% vs 16.11%). This lines up with the idea that \n",
    "breaking down reasoning into separate “Thought” and “Action” steps helps agents avoid mistakes and think more carefully before taking action.\n",
    "\n",
    "Interestingly, ReAct didn’t improve anything in the Manual setting, both Manual ZeroShot and Manual ReAct ended up with exactly the same scores. \n",
    "This might mean that without access to tools or additional context, the ReAct structure alone doesn’t give much of an advantage.\n",
    "\n",
    "\"\"\""
   ]
  }
 ],
 "metadata": {
  "kernelspec": {
   "display_name": "venv",
   "language": "python",
   "name": "python3"
  },
  "language_info": {
   "codemirror_mode": {
    "name": "ipython",
    "version": 3
   },
   "file_extension": ".py",
   "mimetype": "text/x-python",
   "name": "python",
   "nbconvert_exporter": "python",
   "pygments_lexer": "ipython3",
   "version": "3.12.3"
  }
 },
 "nbformat": 4,
 "nbformat_minor": 5
}

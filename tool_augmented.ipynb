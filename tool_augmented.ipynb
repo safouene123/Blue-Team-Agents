{
 "cells": [
  {
   "cell_type": "code",
   "execution_count": 1,
   "id": "df308058",
   "metadata": {},
   "outputs": [],
   "source": [
    "import subprocess   \n",
    "\n",
    "# This script executes a command and saves the output to a specified file.\n",
    "def ExecuteCmd(command_str, output_file='output_cmd/output.txt'):  \n",
    "  \n",
    "    with open(output_file, 'w') as f:\n",
    "        result = subprocess.run(\n",
    "            command_str,\n",
    "            shell=True,\n",
    "            stderr=f, \n",
    "            stdout=f,\n",
    "            text=True,\n",
    "            executable='/bin/bash'\n",
    "        )\n",
    "    return f\"Output saved to {output_file}\""
   ]
  },
  {
   "cell_type": "code",
   "execution_count": 2,
   "id": "ec544ff4",
   "metadata": {},
   "outputs": [],
   "source": [
    "from dotenv import load_dotenv\n",
    "import os\n",
    "from google import genai\n",
    "\n",
    "load_dotenv()\n",
    "api_key = os.getenv(\"GEMINI_API_KEY\")\n",
    "\n",
    "client = genai.Client()"
   ]
  },
  {
   "cell_type": "code",
   "execution_count": 3,
   "id": "d71f383f",
   "metadata": {},
   "outputs": [],
   "source": [
    "import json\n",
    "\n",
    "# Change path to the task you like to run\n",
    "file_path = \"Datasets/network_analysis_2/na2.json\"\n",
    "\n",
    "# Load the JSON content\n",
    "with open(file_path, \"r\") as f:\n",
    "    data = json.load(f)\n",
    "\n",
    "# Extract parts from the JSON\n",
    "scenario = data[\"scenario\"]\n",
    "tools = data[\"tools\"]\n",
    "questions = data[\"questions\"]\n",
    "file=data[\"files\"]\n",
    "\n"
   ]
  },
  {
   "cell_type": "code",
   "execution_count": 4,
   "id": "1e9ac056",
   "metadata": {},
   "outputs": [],
   "source": [
    "#generate the first command for each question\n",
    "def Tool1(history):\n",
    "    response = client.models.generate_content(\n",
    "        model=\"gemini-2.5-flash\",\n",
    "        contents=\"\\n\".join([str(h) for h in history])\n",
    "    )\n",
    "    \n",
    "    return response.text\n",
    "\n",
    "# takes the command from tool1 and reads its output from a file,then generates a new command or returns the final answear\n",
    "def tool2(history, command):\n",
    "    with open('output_cmd/output.txt', 'r') as f:\n",
    "        output = f.read()\n",
    "    output = output[:1000]\n",
    "    history.append({\"previous command\": [command], \"command output\": [output]})\n",
    "\n",
    "    response = client.models.generate_content(\n",
    "        model=\"gemini-2.5-flash\",\n",
    "        contents=\"\\n\".join([str(h) for h in history])\n",
    "    )\n",
    "    return response.text\n"
   ]
  },
  {
   "cell_type": "code",
   "execution_count": 5,
   "id": "592a6b9a",
   "metadata": {},
   "outputs": [
    {
     "name": "stdout",
     "output_type": "stream",
     "text": [
      "🛠️ Command generated for question 1 by tool 1: tshark -r Datasets/network_analysis_2/BTLOPortScan.pcap -T fields -e ip.src | sort | uniq -c | sort -nr\n",
      "📜[{'role': 'system', 'text': ['\\nYou are assisting in solving a Blue Team Labs Online (BTLO)-style cybersecurity investigation challenge using Ubuntu terminal commands.\\n\\nScenario:\\nThe SOC received an alert in their SIEM for ‘Local to Local Port Scanning’ where an internal private IP began scanning another internal system. Can you investigate and determine if this activity is malicious or not? You have been provided a PCAP.\\n\\nAvailable Tools:\\ntshark, tcpdump\\n\\nTarget File(s):\\nDatasets/network_analysis_2/BTLOPortScan.pcap\\n\\nQuestion:\\nWhat is the IP responsible for conducting the port scan activity? (Format: X.X.X.X)\\n\\n\\nInstructions:\\nBased strictly on the previous commands and their outputs and the question:\\n\\n1. If the answer is **clearly** present in the last output, respond with:\\n   final answer: <your answer>\\n\\n2. If the answer is **not yet clear**, and you need to explore further, respond with:\\n   <your next Ubuntu terminal command>\\n\\nImportant:\\n- Do **not** include explanations or justifications.\\n- Only give **one** response per turn, using the correct format.\\n- Decide carefully whether the answer is present or more steps are needed.\\n']}, {'previous command': ['tshark -r Datasets/network_analysis_2/BTLOPortScan.pcap -T fields -e ip.src | sort | uniq -c | sort -nr'], 'command output': ['   8299 10.251.96.5\\n   7607 10.251.96.4\\n    801 172.20.10.5\\n    587 172.20.10.2\\n    121 \\n     20 34.122.121.32\\n     15 127.0.0.1\\n     13 172.20.10.1\\n     12 127.0.0.53\\n     11 10.251.96.3\\n     10 35.224.170.84\\n      8 172.20.10.2,172.20.10.1\\n      3 172.20.10.3\\n      1 0.0.0.0\\n']}]\n",
      "🛠️ New command: tshark -r Datasets/network_analysis_2/BTLOPortScan.pcap -Y \"tcp.flags.syn==1\" -T fields -e ip.src | sort | uniq -c | sort -nr, press 2 to execute it \n",
      "📜[{'role': 'system', 'text': ['\\nYou are assisting in solving a Blue Team Labs Online (BTLO)-style cybersecurity investigation challenge using Ubuntu terminal commands.\\n\\nScenario:\\nThe SOC received an alert in their SIEM for ‘Local to Local Port Scanning’ where an internal private IP began scanning another internal system. Can you investigate and determine if this activity is malicious or not? You have been provided a PCAP.\\n\\nAvailable Tools:\\ntshark, tcpdump\\n\\nTarget File(s):\\nDatasets/network_analysis_2/BTLOPortScan.pcap\\n\\nQuestion:\\nWhat is the IP responsible for conducting the port scan activity? (Format: X.X.X.X)\\n\\n\\nInstructions:\\nBased strictly on the previous commands and their outputs and the question:\\n\\n1. If the answer is **clearly** present in the last output, respond with:\\n   final answer: <your answer>\\n\\n2. If the answer is **not yet clear**, and you need to explore further, respond with:\\n   <your next Ubuntu terminal command>\\n\\nImportant:\\n- Do **not** include explanations or justifications.\\n- Only give **one** response per turn, using the correct format.\\n- Decide carefully whether the answer is present or more steps are needed.\\n']}, {'previous command': ['tshark -r Datasets/network_analysis_2/BTLOPortScan.pcap -T fields -e ip.src | sort | uniq -c | sort -nr'], 'command output': ['   8299 10.251.96.5\\n   7607 10.251.96.4\\n    801 172.20.10.5\\n    587 172.20.10.2\\n    121 \\n     20 34.122.121.32\\n     15 127.0.0.1\\n     13 172.20.10.1\\n     12 127.0.0.53\\n     11 10.251.96.3\\n     10 35.224.170.84\\n      8 172.20.10.2,172.20.10.1\\n      3 172.20.10.3\\n      1 0.0.0.0\\n']}, {'previous command': ['tshark -r Datasets/network_analysis_2/BTLOPortScan.pcap -Y \"tcp.flags.syn==1\" -T fields -e ip.src | sort | uniq -c | sort -nr'], 'command output': ['   1238 10.251.96.4\\n    221 10.251.96.5\\n     40 172.20.10.2\\n     37 172.20.10.5\\n      6 \\n      4 34.122.121.32\\n      2 35.224.170.84\\n']}]\n",
      "✅ Answer to the question 1: 10.251.96.4, click 1 to move to next question\n",
      "🛠️ Command generated for question 2 by tool 1: `tshark -r Datasets/network_analysis_2/BTLOPortScan.pcap -Y \"tcp.flags.syn==1\" -T fields -e tcp.dstport | sort -n | uniq`\n",
      "📜[{'role': 'system', 'text': ['\\nYou are assisting in solving a Blue Team Labs Online (BTLO)-style cybersecurity investigation challenge using Ubuntu terminal commands.\\n\\nScenario:\\nThe SOC received an alert in their SIEM for ‘Local to Local Port Scanning’ where an internal private IP began scanning another internal system. Can you investigate and determine if this activity is malicious or not? You have been provided a PCAP.\\n\\nAvailable Tools:\\ntshark, tcpdump\\n\\nTarget File(s):\\nDatasets/network_analysis_2/BTLOPortScan.pcap\\n\\nQuestion:\\nWhat is the port range scanned by the suspicious host? (Format: firstport-lastport)\\n\\n\\nInstructions:\\nBased strictly on the previous commands and their outputs and the question:\\n\\n1. If the answer is **clearly** present in the last output, respond with:\\n   final answer: <your answer>\\n\\n2. If the answer is **not yet clear**, and you need to explore further, respond with:\\n   <your next Ubuntu terminal command>\\n\\nImportant:\\n- Do **not** include explanations or justifications.\\n- Only give **one** response per turn, using the correct format.\\n- Decide carefully whether the answer is present or more steps are needed.\\n']}, {'previous command': ['`tshark -r Datasets/network_analysis_2/BTLOPortScan.pcap -Y \"tcp.flags.syn==1\" -T fields -e tcp.dstport | sort -n | uniq`'], 'command output': ['/bin/bash: line 1: 1: command not found\\n']}]\n",
      "🛠️ New command: tshark -r Datasets/network_analysis_2/BTLOPortScan.pcap -Y \"tcp.flags.syn==1\" -c 1, press 2 to execute it \n",
      "📜[{'role': 'system', 'text': ['\\nYou are assisting in solving a Blue Team Labs Online (BTLO)-style cybersecurity investigation challenge using Ubuntu terminal commands.\\n\\nScenario:\\nThe SOC received an alert in their SIEM for ‘Local to Local Port Scanning’ where an internal private IP began scanning another internal system. Can you investigate and determine if this activity is malicious or not? You have been provided a PCAP.\\n\\nAvailable Tools:\\ntshark, tcpdump\\n\\nTarget File(s):\\nDatasets/network_analysis_2/BTLOPortScan.pcap\\n\\nQuestion:\\nWhat is the port range scanned by the suspicious host? (Format: firstport-lastport)\\n\\n\\nInstructions:\\nBased strictly on the previous commands and their outputs and the question:\\n\\n1. If the answer is **clearly** present in the last output, respond with:\\n   final answer: <your answer>\\n\\n2. If the answer is **not yet clear**, and you need to explore further, respond with:\\n   <your next Ubuntu terminal command>\\n\\nImportant:\\n- Do **not** include explanations or justifications.\\n- Only give **one** response per turn, using the correct format.\\n- Decide carefully whether the answer is present or more steps are needed.\\n']}, {'previous command': ['`tshark -r Datasets/network_analysis_2/BTLOPortScan.pcap -Y \"tcp.flags.syn==1\" -T fields -e tcp.dstport | sort -n | uniq`'], 'command output': ['/bin/bash: line 1: 1: command not found\\n']}, {'previous command': ['tshark -r Datasets/network_analysis_2/BTLOPortScan.pcap -Y \"tcp.flags.syn==1\" -c 1'], 'command output': ['']}]\n",
      "🛠️ New command: tshark -r Datasets/network_analysis_2/BTLOPortScan.pcap -Y \"tcp.flags.syn==1\" -T fields -e tcp.dstport | sort -n | uniq, press 2 to execute it \n",
      "📜[{'role': 'system', 'text': ['\\nYou are assisting in solving a Blue Team Labs Online (BTLO)-style cybersecurity investigation challenge using Ubuntu terminal commands.\\n\\nScenario:\\nThe SOC received an alert in their SIEM for ‘Local to Local Port Scanning’ where an internal private IP began scanning another internal system. Can you investigate and determine if this activity is malicious or not? You have been provided a PCAP.\\n\\nAvailable Tools:\\ntshark, tcpdump\\n\\nTarget File(s):\\nDatasets/network_analysis_2/BTLOPortScan.pcap\\n\\nQuestion:\\nWhat is the port range scanned by the suspicious host? (Format: firstport-lastport)\\n\\n\\nInstructions:\\nBased strictly on the previous commands and their outputs and the question:\\n\\n1. If the answer is **clearly** present in the last output, respond with:\\n   final answer: <your answer>\\n\\n2. If the answer is **not yet clear**, and you need to explore further, respond with:\\n   <your next Ubuntu terminal command>\\n\\nImportant:\\n- Do **not** include explanations or justifications.\\n- Only give **one** response per turn, using the correct format.\\n- Decide carefully whether the answer is present or more steps are needed.\\n']}, {'previous command': ['`tshark -r Datasets/network_analysis_2/BTLOPortScan.pcap -Y \"tcp.flags.syn==1\" -T fields -e tcp.dstport | sort -n | uniq`'], 'command output': ['/bin/bash: line 1: 1: command not found\\n']}, {'previous command': ['tshark -r Datasets/network_analysis_2/BTLOPortScan.pcap -Y \"tcp.flags.syn==1\" -c 1'], 'command output': ['']}, {'previous command': ['tshark -r Datasets/network_analysis_2/BTLOPortScan.pcap -Y \"tcp.flags.syn==1\" -T fields -e tcp.dstport | sort -n | uniq'], 'command output': ['1\\n2\\n3\\n4\\n5\\n6\\n7\\n8\\n9\\n10\\n11\\n12\\n13\\n14\\n15\\n16\\n17\\n18\\n19\\n20\\n21\\n22\\n23\\n24\\n25\\n26\\n27\\n28\\n29\\n30\\n31\\n32\\n33\\n34\\n35\\n36\\n37\\n38\\n39\\n40\\n41\\n42\\n43\\n44\\n45\\n46\\n47\\n48\\n49\\n50\\n51\\n52\\n53\\n54\\n55\\n56\\n57\\n58\\n59\\n60\\n61\\n62\\n63\\n64\\n65\\n66\\n67\\n68\\n69\\n70\\n71\\n72\\n73\\n74\\n75\\n76\\n77\\n78\\n79\\n80\\n81\\n82\\n83\\n84\\n85\\n86\\n87\\n88\\n89\\n90\\n91\\n92\\n93\\n94\\n95\\n96\\n97\\n98\\n99\\n100\\n101\\n102\\n103\\n104\\n105\\n106\\n107\\n108\\n109\\n110\\n111\\n112\\n113\\n114\\n115\\n116\\n117\\n118\\n119\\n120\\n121\\n122\\n123\\n124\\n125\\n126\\n127\\n128\\n129\\n130\\n131\\n132\\n133\\n134\\n135\\n136\\n137\\n138\\n139\\n140\\n141\\n142\\n143\\n144\\n145\\n146\\n147\\n148\\n149\\n150\\n151\\n152\\n153\\n154\\n155\\n156\\n157\\n158\\n159\\n160\\n161\\n162\\n163\\n164\\n165\\n166\\n167\\n168\\n169\\n170\\n171\\n172\\n173\\n174\\n175\\n176\\n177\\n178\\n179\\n180\\n181\\n182\\n183\\n184\\n185\\n186\\n187\\n188\\n189\\n190\\n191\\n192\\n193\\n194\\n195\\n196\\n197\\n198\\n199\\n200\\n201\\n202\\n203\\n204\\n205\\n206\\n207\\n208\\n209\\n210\\n211\\n212\\n213\\n214\\n215\\n216\\n217\\n218\\n219\\n220\\n221\\n222\\n223\\n224\\n225\\n226\\n227\\n228\\n229\\n230\\n231\\n232\\n233\\n234\\n235\\n236\\n237\\n238\\n239\\n240\\n241\\n242\\n243\\n244\\n245\\n246\\n247\\n248\\n249\\n250\\n251\\n252\\n253\\n254\\n255\\n256\\n257\\n258\\n259\\n260\\n261\\n262\\n263\\n264\\n265\\n266\\n267\\n268\\n269\\n270\\n271\\n272\\n273\\n274\\n275\\n276\\n277\\n']}]\n",
      "✅ Answer to the question 2: 1-277, click 1 to move to next question\n",
      "🛠️ Command generated for question 3 by tool 1: `tshark -r Datasets/network_analysis_2/BTLOPortScan.pcap -T fields -e ip.src -e ip.dst -e tcp.dstport -e tcp.flags.str`\n",
      "📜[{'role': 'system', 'text': ['\\nYou are assisting in solving a Blue Team Labs Online (BTLO)-style cybersecurity investigation challenge using Ubuntu terminal commands.\\n\\nScenario:\\nThe SOC received an alert in their SIEM for ‘Local to Local Port Scanning’ where an internal private IP began scanning another internal system. Can you investigate and determine if this activity is malicious or not? You have been provided a PCAP.\\n\\nAvailable Tools:\\ntshark, tcpdump\\n\\nTarget File(s):\\nDatasets/network_analysis_2/BTLOPortScan.pcap\\n\\nQuestion:\\nWhat is the type of port scan conducted? (Format: Protocol ScanType)\\n\\n\\nInstructions:\\nBased strictly on the previous commands and their outputs and the question:\\n\\n1. If the answer is **clearly** present in the last output, respond with:\\n   final answer: <your answer>\\n\\n2. If the answer is **not yet clear**, and you need to explore further, respond with:\\n   <your next Ubuntu terminal command>\\n\\nImportant:\\n- Do **not** include explanations or justifications.\\n- Only give **one** response per turn, using the correct format.\\n- Decide carefully whether the answer is present or more steps are needed.\\n']}, {'previous command': ['`tshark -r Datasets/network_analysis_2/BTLOPortScan.pcap -T fields -e ip.src -e ip.dst -e tcp.dstport -e tcp.flags.str`'], 'command output': ['/bin/bash: line 1: 127.0.0.1: command not found\\n']}]\n",
      "🛠️ New command: tshark -r Datasets/network_analysis_2/BTLOPortScan.pcap -T fields -e ip.src -e ip.dst -e tcp.dstport -e tcp.flags.str, press 2 to execute it \n",
      "📜[{'role': 'system', 'text': ['\\nYou are assisting in solving a Blue Team Labs Online (BTLO)-style cybersecurity investigation challenge using Ubuntu terminal commands.\\n\\nScenario:\\nThe SOC received an alert in their SIEM for ‘Local to Local Port Scanning’ where an internal private IP began scanning another internal system. Can you investigate and determine if this activity is malicious or not? You have been provided a PCAP.\\n\\nAvailable Tools:\\ntshark, tcpdump\\n\\nTarget File(s):\\nDatasets/network_analysis_2/BTLOPortScan.pcap\\n\\nQuestion:\\nWhat is the type of port scan conducted? (Format: Protocol ScanType)\\n\\n\\nInstructions:\\nBased strictly on the previous commands and their outputs and the question:\\n\\n1. If the answer is **clearly** present in the last output, respond with:\\n   final answer: <your answer>\\n\\n2. If the answer is **not yet clear**, and you need to explore further, respond with:\\n   <your next Ubuntu terminal command>\\n\\nImportant:\\n- Do **not** include explanations or justifications.\\n- Only give **one** response per turn, using the correct format.\\n- Decide carefully whether the answer is present or more steps are needed.\\n']}, {'previous command': ['`tshark -r Datasets/network_analysis_2/BTLOPortScan.pcap -T fields -e ip.src -e ip.dst -e tcp.dstport -e tcp.flags.str`'], 'command output': ['/bin/bash: line 1: 127.0.0.1: command not found\\n']}, {'previous command': ['tshark -r Datasets/network_analysis_2/BTLOPortScan.pcap -T fields -e ip.src -e ip.dst -e tcp.dstport -e tcp.flags.str'], 'command output': ['127.0.0.1\\t224.0.0.251\\t\\t\\n\\t\\t\\t\\n\\t\\t\\t\\n172.20.10.2\\t224.0.0.251\\t\\t\\n10.251.96.5\\t224.0.0.251\\t\\t\\n\\t\\t\\t\\n\\t\\t\\t\\n172.20.10.5\\t172.20.10.2\\t80\\t··········S·\\n172.20.10.2\\t172.20.10.5\\t50191\\t·······A··S·\\n172.20.10.5\\t172.20.10.2\\t80\\t··········S·\\n172.20.10.2\\t172.20.10.5\\t50192\\t·······A··S·\\n172.20.10.5\\t172.20.10.2\\t80\\t·······A····\\n172.20.10.5\\t172.20.10.2\\t80\\t·······A····\\n172.20.10.5\\t172.20.10.2\\t80\\t·······AP···\\n172.20.10.2\\t172.20.10.5\\t50191\\t·······A····\\n172.20.10.2\\t172.20.10.5\\t50191\\t·······AP···\\n172.20.10.5\\t172.20.10.2\\t80\\t·······A····\\n172.20.10.5\\t172.20.10.2\\t80\\t·······AP···\\n172.20.10.2\\t172.20.10.5\\t50191\\t·······A····\\n172.20.10.2\\t172.20.10.5\\t50191\\t·······AP···\\n172.20.10.5\\t172.20.10.2\\t80\\t·······A····\\n172.20.10.5\\t172.20.10.2\\t80\\t·······AP···\\n172.20.10.2\\t172.20.10.5\\t50191\\t·······A····\\n172.20.10.2\\t172.20.10.5\\t50191\\t·······AP···\\n172.20.10.5\\t172.20.10.2\\t80\\t·······A····\\n172.20.10.5\\t172.20.10.2\\t80\\t·······A···F\\n172.20.10.5\\t172.20.10.2\\t80\\t·······A···F\\n172.20.10.2\\t172.20.10.5\\t50192\\t·······A···F\\n172.20.10.5\\t172.20.10.2\\t80\\t·······A····\\n1']}]\n",
      "✅ Answer to the question 3: tcp connect scan, click 1 to move to next question\n",
      "🛠️ Command generated for question 4 by tool 1: `tshark -r Datasets/network_analysis_2/BTLOPortScan.pcap -Y \"tcp.flags.syn == 1 && tcp.flags.ack == 0\" -T fields -e ip.src -e ip.dst -e tcp.dstport -e tcp.window_size -e tcp.options.mss_val -e tcp.options.wscale_val -e ip.ttl`\n",
      "📜[{'role': 'system', 'text': ['\\nYou are assisting in solving a Blue Team Labs Online (BTLO)-style cybersecurity investigation challenge using Ubuntu terminal commands.\\n\\nScenario:\\nThe SOC received an alert in their SIEM for ‘Local to Local Port Scanning’ where an internal private IP began scanning another internal system. Can you investigate and determine if this activity is malicious or not? You have been provided a PCAP.\\n\\nAvailable Tools:\\ntshark, tcpdump\\n\\nTarget File(s):\\nDatasets/network_analysis_2/BTLOPortScan.pcap\\n\\nQuestion:\\nTwo more tools were used to perform reconnaissance against open ports, what were they? (Format: ToolName Version, ToolName Version)\\n\\n\\nInstructions:\\nBased strictly on the previous commands and their outputs and the question:\\n\\n1. If the answer is **clearly** present in the last output, respond with:\\n   final answer: <your answer>\\n\\n2. If the answer is **not yet clear**, and you need to explore further, respond with:\\n   <your next Ubuntu terminal command>\\n\\nImportant:\\n- Do **not** include explanations or justifications.\\n- Only give **one** response per turn, using the correct format.\\n- Decide carefully whether the answer is present or more steps are needed.\\n']}, {'previous command': ['`tshark -r Datasets/network_analysis_2/BTLOPortScan.pcap -Y \"tcp.flags.syn == 1 && tcp.flags.ack == 0\" -T fields -e ip.src -e ip.dst -e tcp.dstport -e tcp.window_size -e tcp.options.mss_val -e tcp.options.wscale_val -e ip.ttl`'], 'command output': [\"tshark: Some fields aren't valid:\\n\\ttcp.options.wscale_val\\n\"]}]\n",
      "🛠️ New command: `tshark -r Datasets/network_analysis_2/BTLOPortScan.pcap -Y \"tcp.flags.syn == 1 && tcp.flags.ack == 0\" -T fields -e ip.src -e ip.dst -e tcp.dstport -e tcp.window_size -e tcp.options.mss_val -e ip.ttl`, press 2 to execute it \n",
      "📜[{'role': 'system', 'text': ['\\nYou are assisting in solving a Blue Team Labs Online (BTLO)-style cybersecurity investigation challenge using Ubuntu terminal commands.\\n\\nScenario:\\nThe SOC received an alert in their SIEM for ‘Local to Local Port Scanning’ where an internal private IP began scanning another internal system. Can you investigate and determine if this activity is malicious or not? You have been provided a PCAP.\\n\\nAvailable Tools:\\ntshark, tcpdump\\n\\nTarget File(s):\\nDatasets/network_analysis_2/BTLOPortScan.pcap\\n\\nQuestion:\\nTwo more tools were used to perform reconnaissance against open ports, what were they? (Format: ToolName Version, ToolName Version)\\n\\n\\nInstructions:\\nBased strictly on the previous commands and their outputs and the question:\\n\\n1. If the answer is **clearly** present in the last output, respond with:\\n   final answer: <your answer>\\n\\n2. If the answer is **not yet clear**, and you need to explore further, respond with:\\n   <your next Ubuntu terminal command>\\n\\nImportant:\\n- Do **not** include explanations or justifications.\\n- Only give **one** response per turn, using the correct format.\\n- Decide carefully whether the answer is present or more steps are needed.\\n']}, {'previous command': ['`tshark -r Datasets/network_analysis_2/BTLOPortScan.pcap -Y \"tcp.flags.syn == 1 && tcp.flags.ack == 0\" -T fields -e ip.src -e ip.dst -e tcp.dstport -e tcp.window_size -e tcp.options.mss_val -e tcp.options.wscale_val -e ip.ttl`'], 'command output': [\"tshark: Some fields aren't valid:\\n\\ttcp.options.wscale_val\\n\"]}, {'previous command': ['`tshark -r Datasets/network_analysis_2/BTLOPortScan.pcap -Y \"tcp.flags.syn == 1 && tcp.flags.ack == 0\" -T fields -e ip.src -e ip.dst -e tcp.dstport -e tcp.window_size -e tcp.options.mss_val -e ip.ttl`'], 'command output': ['/bin/bash: line 1: 172.20.10.5: command not found\\n']}]\n",
      "🛠️ New command: `tshark -r Datasets/network_analysis_2/BTLOPortScan.pcap -Y \"tcp.flags.syn == 1 && tcp.flags.ack == 0\" -T fields -e ip.src -e ip.dst -e tcp.dstport -e tcp.window_size -e tcp.options`, press 2 to execute it \n",
      "🛠️ Command generated for question 5 by tool 1: `tshark -r Datasets/network_analysis_2/BTLOPortScan.pcap -Y \"http.request.method == POST && http.request.uri contains \\\".php\\\"\" -T fields -e http.request.full_uri`\n",
      "📜[{'role': 'system', 'text': ['\\nYou are assisting in solving a Blue Team Labs Online (BTLO)-style cybersecurity investigation challenge using Ubuntu terminal commands.\\n\\nScenario:\\nThe SOC received an alert in their SIEM for ‘Local to Local Port Scanning’ where an internal private IP began scanning another internal system. Can you investigate and determine if this activity is malicious or not? You have been provided a PCAP.\\n\\nAvailable Tools:\\ntshark, tcpdump\\n\\nTarget File(s):\\nDatasets/network_analysis_2/BTLOPortScan.pcap\\n\\nQuestion:\\nWhat is the name of the php file through which the attacker uploaded a web shell? (Format: filename.php)\\n\\n\\nInstructions:\\nBased strictly on the previous commands and their outputs and the question:\\n\\n1. If the answer is **clearly** present in the last output, respond with:\\n   final answer: <your answer>\\n\\n2. If the answer is **not yet clear**, and you need to explore further, respond with:\\n   <your next Ubuntu terminal command>\\n\\nImportant:\\n- Do **not** include explanations or justifications.\\n- Only give **one** response per turn, using the correct format.\\n- Decide carefully whether the answer is present or more steps are needed.\\n']}, {'previous command': ['`tshark -r Datasets/network_analysis_2/BTLOPortScan.pcap -Y \"http.request.method == POST && http.request.uri contains \\\\\".php\\\\\"\" -T fields -e http.request.full_uri`'], 'command output': ['/bin/bash: line 1: http://172.20.10.2/login.php: No such file or directory\\n']}]\n",
      "✅ Answer to the question 5: login.php, click 1 to move to next question\n",
      "🛠️ Command generated for question 6 by tool 1: `tshark -r Datasets/network_analysis_2/BTLOPortScan.pcap -Y \"http.request.method == POST && http.content_type contains \\\"multipart/form-data\\\"\"`\n",
      "📜[{'role': 'system', 'text': ['\\nYou are assisting in solving a Blue Team Labs Online (BTLO)-style cybersecurity investigation challenge using Ubuntu terminal commands.\\n\\nScenario:\\nThe SOC received an alert in their SIEM for ‘Local to Local Port Scanning’ where an internal private IP began scanning another internal system. Can you investigate and determine if this activity is malicious or not? You have been provided a PCAP.\\n\\nAvailable Tools:\\ntshark, tcpdump\\n\\nTarget File(s):\\nDatasets/network_analysis_2/BTLOPortScan.pcap\\n\\nQuestion:\\nWhat is the name of the web shell that the attacker uploaded? (Format: filename.php)\\n\\n\\nInstructions:\\nBased strictly on the previous commands and their outputs and the question:\\n\\n1. If the answer is **clearly** present in the last output, respond with:\\n   final answer: <your answer>\\n\\n2. If the answer is **not yet clear**, and you need to explore further, respond with:\\n   <your next Ubuntu terminal command>\\n\\nImportant:\\n- Do **not** include explanations or justifications.\\n- Only give **one** response per turn, using the correct format.\\n- Decide carefully whether the answer is present or more steps are needed.\\n']}, {'previous command': ['`tshark -r Datasets/network_analysis_2/BTLOPortScan.pcap -Y \"http.request.method == POST && http.content_type contains \\\\\"multipart/form-data\\\\\"\"`'], 'command output': ['/bin/bash: line 1: 16070: command not found\\n']}]\n",
      "🛠️ New command: `tshark -r Datasets/network_analysis_2/BTLOPortScan.pcap --export-objects http,./http_objects/`, press 2 to execute it \n",
      "📜[{'role': 'system', 'text': ['\\nYou are assisting in solving a Blue Team Labs Online (BTLO)-style cybersecurity investigation challenge using Ubuntu terminal commands.\\n\\nScenario:\\nThe SOC received an alert in their SIEM for ‘Local to Local Port Scanning’ where an internal private IP began scanning another internal system. Can you investigate and determine if this activity is malicious or not? You have been provided a PCAP.\\n\\nAvailable Tools:\\ntshark, tcpdump\\n\\nTarget File(s):\\nDatasets/network_analysis_2/BTLOPortScan.pcap\\n\\nQuestion:\\nWhat is the name of the web shell that the attacker uploaded? (Format: filename.php)\\n\\n\\nInstructions:\\nBased strictly on the previous commands and their outputs and the question:\\n\\n1. If the answer is **clearly** present in the last output, respond with:\\n   final answer: <your answer>\\n\\n2. If the answer is **not yet clear**, and you need to explore further, respond with:\\n   <your next Ubuntu terminal command>\\n\\nImportant:\\n- Do **not** include explanations or justifications.\\n- Only give **one** response per turn, using the correct format.\\n- Decide carefully whether the answer is present or more steps are needed.\\n']}, {'previous command': ['`tshark -r Datasets/network_analysis_2/BTLOPortScan.pcap -Y \"http.request.method == POST && http.content_type contains \\\\\"multipart/form-data\\\\\"\"`'], 'command output': ['/bin/bash: line 1: 16070: command not found\\n']}, {'previous command': ['`tshark -r Datasets/network_analysis_2/BTLOPortScan.pcap --export-objects http,./http_objects/`'], 'command output': ['/bin/bash: line 1: 1: command not found\\n']}]\n",
      "🛠️ New command: `tshark -r Datasets/network_analysis_2/BTLOPortScan.pcap --export-objects http,./extracted_files/`, press 2 to execute it \n",
      "🛠️ Command generated for question 7 by tool 1: `tshark -r Datasets/network_analysis_2/BTLOPortScan.pcap -Y \"http.request\" -T fields -e http.request.full_uri -e http.request.body`\n",
      "📜[{'role': 'system', 'text': ['\\nYou are assisting in solving a Blue Team Labs Online (BTLO)-style cybersecurity investigation challenge using Ubuntu terminal commands.\\n\\nScenario:\\nThe SOC received an alert in their SIEM for ‘Local to Local Port Scanning’ where an internal private IP began scanning another internal system. Can you investigate and determine if this activity is malicious or not? You have been provided a PCAP.\\n\\nAvailable Tools:\\ntshark, tcpdump\\n\\nTarget File(s):\\nDatasets/network_analysis_2/BTLOPortScan.pcap\\n\\nQuestion:\\nWhat is the parameter used in the web shell for executing commands? (Parameter Used to Execute Commands)\\n\\n\\nInstructions:\\nBased strictly on the previous commands and their outputs and the question:\\n\\n1. If the answer is **clearly** present in the last output, respond with:\\n   final answer: <your answer>\\n\\n2. If the answer is **not yet clear**, and you need to explore further, respond with:\\n   <your next Ubuntu terminal command>\\n\\nImportant:\\n- Do **not** include explanations or justifications.\\n- Only give **one** response per turn, using the correct format.\\n- Decide carefully whether the answer is present or more steps are needed.\\n']}, {'previous command': ['`tshark -r Datasets/network_analysis_2/BTLOPortScan.pcap -Y \"http.request\" -T fields -e http.request.full_uri -e http.request.body`'], 'command output': [\"tshark: Some fields aren't valid:\\n\\thttp.request.body\\n\"]}]\n",
      "🛠️ New command: `tshark -r Datasets/network_analysis_2/BTLOPortScan.pcap -Y \"http.request\" -T fields -e http.request.method -e http.request.full_uri`, press 2 to execute it \n"
     ]
    },
    {
     "ename": "KeyboardInterrupt",
     "evalue": "",
     "output_type": "error",
     "traceback": [
      "\u001b[31m---------------------------------------------------------------------------\u001b[39m",
      "\u001b[31mKeyboardInterrupt\u001b[39m                         Traceback (most recent call last)",
      "\u001b[36mCell\u001b[39m\u001b[36m \u001b[39m\u001b[32mIn[5]\u001b[39m\u001b[32m, line 47\u001b[39m\n\u001b[32m     45\u001b[39m     \u001b[38;5;28;01melse\u001b[39;00m:\n\u001b[32m     46\u001b[39m         \u001b[38;5;28mprint\u001b[39m(\u001b[33mf\u001b[39m\u001b[33m\"\u001b[39m\u001b[33m🛠️ New command: \u001b[39m\u001b[38;5;132;01m{\u001b[39;00moutput1\u001b[38;5;132;01m}\u001b[39;00m\u001b[33m, press 2 to execute it \u001b[39m\u001b[33m\"\u001b[39m)\n\u001b[32m---> \u001b[39m\u001b[32m47\u001b[39m         \u001b[43mExecuteCmd\u001b[49m\u001b[43m(\u001b[49m\u001b[43moutput1\u001b[49m\u001b[43m)\u001b[49m\n\u001b[32m     49\u001b[39m \u001b[38;5;66;03m# exit the loop\u001b[39;00m\n\u001b[32m     50\u001b[39m \u001b[38;5;28;01melif\u001b[39;00m user_input == \u001b[33m\"\u001b[39m\u001b[33m3\u001b[39m\u001b[33m\"\u001b[39m:\n",
      "\u001b[36mCell\u001b[39m\u001b[36m \u001b[39m\u001b[32mIn[1]\u001b[39m\u001b[32m, line 7\u001b[39m, in \u001b[36mExecuteCmd\u001b[39m\u001b[34m(command_str, output_file)\u001b[39m\n\u001b[32m      4\u001b[39m \u001b[38;5;28;01mdef\u001b[39;00m\u001b[38;5;250m \u001b[39m\u001b[34mExecuteCmd\u001b[39m(command_str, output_file=\u001b[33m'\u001b[39m\u001b[33moutput_cmd/output.txt\u001b[39m\u001b[33m'\u001b[39m):  \n\u001b[32m      6\u001b[39m     \u001b[38;5;28;01mwith\u001b[39;00m \u001b[38;5;28mopen\u001b[39m(output_file, \u001b[33m'\u001b[39m\u001b[33mw\u001b[39m\u001b[33m'\u001b[39m) \u001b[38;5;28;01mas\u001b[39;00m f:\n\u001b[32m----> \u001b[39m\u001b[32m7\u001b[39m         result = \u001b[43msubprocess\u001b[49m\u001b[43m.\u001b[49m\u001b[43mrun\u001b[49m\u001b[43m(\u001b[49m\n\u001b[32m      8\u001b[39m \u001b[43m            \u001b[49m\u001b[43mcommand_str\u001b[49m\u001b[43m,\u001b[49m\n\u001b[32m      9\u001b[39m \u001b[43m            \u001b[49m\u001b[43mshell\u001b[49m\u001b[43m=\u001b[49m\u001b[38;5;28;43;01mTrue\u001b[39;49;00m\u001b[43m,\u001b[49m\n\u001b[32m     10\u001b[39m \u001b[43m            \u001b[49m\u001b[43mstderr\u001b[49m\u001b[43m=\u001b[49m\u001b[43mf\u001b[49m\u001b[43m,\u001b[49m\u001b[43m \u001b[49m\n\u001b[32m     11\u001b[39m \u001b[43m            \u001b[49m\u001b[43mstdout\u001b[49m\u001b[43m=\u001b[49m\u001b[43mf\u001b[49m\u001b[43m,\u001b[49m\n\u001b[32m     12\u001b[39m \u001b[43m            \u001b[49m\u001b[43mtext\u001b[49m\u001b[43m=\u001b[49m\u001b[38;5;28;43;01mTrue\u001b[39;49;00m\u001b[43m,\u001b[49m\n\u001b[32m     13\u001b[39m \u001b[43m            \u001b[49m\u001b[43mexecutable\u001b[49m\u001b[43m=\u001b[49m\u001b[33;43m'\u001b[39;49m\u001b[33;43m/bin/bash\u001b[39;49m\u001b[33;43m'\u001b[39;49m\n\u001b[32m     14\u001b[39m \u001b[43m        \u001b[49m\u001b[43m)\u001b[49m\n\u001b[32m     15\u001b[39m     \u001b[38;5;28;01mreturn\u001b[39;00m \u001b[33mf\u001b[39m\u001b[33m\"\u001b[39m\u001b[33mOutput saved to \u001b[39m\u001b[38;5;132;01m{\u001b[39;00moutput_file\u001b[38;5;132;01m}\u001b[39;00m\u001b[33m\"\u001b[39m\n",
      "\u001b[36mFile \u001b[39m\u001b[32m/usr/lib/python3.12/subprocess.py:550\u001b[39m, in \u001b[36mrun\u001b[39m\u001b[34m(input, capture_output, timeout, check, *popenargs, **kwargs)\u001b[39m\n\u001b[32m    548\u001b[39m \u001b[38;5;28;01mwith\u001b[39;00m Popen(*popenargs, **kwargs) \u001b[38;5;28;01mas\u001b[39;00m process:\n\u001b[32m    549\u001b[39m     \u001b[38;5;28;01mtry\u001b[39;00m:\n\u001b[32m--> \u001b[39m\u001b[32m550\u001b[39m         stdout, stderr = \u001b[43mprocess\u001b[49m\u001b[43m.\u001b[49m\u001b[43mcommunicate\u001b[49m\u001b[43m(\u001b[49m\u001b[38;5;28;43minput\u001b[39;49m\u001b[43m,\u001b[49m\u001b[43m \u001b[49m\u001b[43mtimeout\u001b[49m\u001b[43m=\u001b[49m\u001b[43mtimeout\u001b[49m\u001b[43m)\u001b[49m\n\u001b[32m    551\u001b[39m     \u001b[38;5;28;01mexcept\u001b[39;00m TimeoutExpired \u001b[38;5;28;01mas\u001b[39;00m exc:\n\u001b[32m    552\u001b[39m         process.kill()\n",
      "\u001b[36mFile \u001b[39m\u001b[32m/usr/lib/python3.12/subprocess.py:1201\u001b[39m, in \u001b[36mPopen.communicate\u001b[39m\u001b[34m(self, input, timeout)\u001b[39m\n\u001b[32m   1199\u001b[39m         stderr = \u001b[38;5;28mself\u001b[39m.stderr.read()\n\u001b[32m   1200\u001b[39m         \u001b[38;5;28mself\u001b[39m.stderr.close()\n\u001b[32m-> \u001b[39m\u001b[32m1201\u001b[39m     \u001b[38;5;28;43mself\u001b[39;49m\u001b[43m.\u001b[49m\u001b[43mwait\u001b[49m\u001b[43m(\u001b[49m\u001b[43m)\u001b[49m\n\u001b[32m   1202\u001b[39m \u001b[38;5;28;01melse\u001b[39;00m:\n\u001b[32m   1203\u001b[39m     \u001b[38;5;28;01mif\u001b[39;00m timeout \u001b[38;5;129;01mis\u001b[39;00m \u001b[38;5;129;01mnot\u001b[39;00m \u001b[38;5;28;01mNone\u001b[39;00m:\n",
      "\u001b[36mFile \u001b[39m\u001b[32m/usr/lib/python3.12/subprocess.py:1264\u001b[39m, in \u001b[36mPopen.wait\u001b[39m\u001b[34m(self, timeout)\u001b[39m\n\u001b[32m   1262\u001b[39m     endtime = _time() + timeout\n\u001b[32m   1263\u001b[39m \u001b[38;5;28;01mtry\u001b[39;00m:\n\u001b[32m-> \u001b[39m\u001b[32m1264\u001b[39m     \u001b[38;5;28;01mreturn\u001b[39;00m \u001b[38;5;28;43mself\u001b[39;49m\u001b[43m.\u001b[49m\u001b[43m_wait\u001b[49m\u001b[43m(\u001b[49m\u001b[43mtimeout\u001b[49m\u001b[43m=\u001b[49m\u001b[43mtimeout\u001b[49m\u001b[43m)\u001b[49m\n\u001b[32m   1265\u001b[39m \u001b[38;5;28;01mexcept\u001b[39;00m \u001b[38;5;167;01mKeyboardInterrupt\u001b[39;00m:\n\u001b[32m   1266\u001b[39m     \u001b[38;5;66;03m# https://bugs.python.org/issue25942\u001b[39;00m\n\u001b[32m   1267\u001b[39m     \u001b[38;5;66;03m# The first keyboard interrupt waits briefly for the child to\u001b[39;00m\n\u001b[32m   1268\u001b[39m     \u001b[38;5;66;03m# exit under the common assumption that it also received the ^C\u001b[39;00m\n\u001b[32m   1269\u001b[39m     \u001b[38;5;66;03m# generated SIGINT and will exit rapidly.\u001b[39;00m\n\u001b[32m   1270\u001b[39m     \u001b[38;5;28;01mif\u001b[39;00m timeout \u001b[38;5;129;01mis\u001b[39;00m \u001b[38;5;129;01mnot\u001b[39;00m \u001b[38;5;28;01mNone\u001b[39;00m:\n",
      "\u001b[36mFile \u001b[39m\u001b[32m/usr/lib/python3.12/subprocess.py:2053\u001b[39m, in \u001b[36mPopen._wait\u001b[39m\u001b[34m(self, timeout)\u001b[39m\n\u001b[32m   2051\u001b[39m \u001b[38;5;28;01mif\u001b[39;00m \u001b[38;5;28mself\u001b[39m.returncode \u001b[38;5;129;01mis\u001b[39;00m \u001b[38;5;129;01mnot\u001b[39;00m \u001b[38;5;28;01mNone\u001b[39;00m:\n\u001b[32m   2052\u001b[39m     \u001b[38;5;28;01mbreak\u001b[39;00m  \u001b[38;5;66;03m# Another thread waited.\u001b[39;00m\n\u001b[32m-> \u001b[39m\u001b[32m2053\u001b[39m (pid, sts) = \u001b[38;5;28;43mself\u001b[39;49m\u001b[43m.\u001b[49m\u001b[43m_try_wait\u001b[49m\u001b[43m(\u001b[49m\u001b[32;43m0\u001b[39;49m\u001b[43m)\u001b[49m\n\u001b[32m   2054\u001b[39m \u001b[38;5;66;03m# Check the pid and loop as waitpid has been known to\u001b[39;00m\n\u001b[32m   2055\u001b[39m \u001b[38;5;66;03m# return 0 even without WNOHANG in odd situations.\u001b[39;00m\n\u001b[32m   2056\u001b[39m \u001b[38;5;66;03m# http://bugs.python.org/issue14396.\u001b[39;00m\n\u001b[32m   2057\u001b[39m \u001b[38;5;28;01mif\u001b[39;00m pid == \u001b[38;5;28mself\u001b[39m.pid:\n",
      "\u001b[36mFile \u001b[39m\u001b[32m/usr/lib/python3.12/subprocess.py:2011\u001b[39m, in \u001b[36mPopen._try_wait\u001b[39m\u001b[34m(self, wait_flags)\u001b[39m\n\u001b[32m   2009\u001b[39m \u001b[38;5;250m\u001b[39m\u001b[33;03m\"\"\"All callers to this function MUST hold self._waitpid_lock.\"\"\"\u001b[39;00m\n\u001b[32m   2010\u001b[39m \u001b[38;5;28;01mtry\u001b[39;00m:\n\u001b[32m-> \u001b[39m\u001b[32m2011\u001b[39m     (pid, sts) = \u001b[43mos\u001b[49m\u001b[43m.\u001b[49m\u001b[43mwaitpid\u001b[49m\u001b[43m(\u001b[49m\u001b[38;5;28;43mself\u001b[39;49m\u001b[43m.\u001b[49m\u001b[43mpid\u001b[49m\u001b[43m,\u001b[49m\u001b[43m \u001b[49m\u001b[43mwait_flags\u001b[49m\u001b[43m)\u001b[49m\n\u001b[32m   2012\u001b[39m \u001b[38;5;28;01mexcept\u001b[39;00m \u001b[38;5;167;01mChildProcessError\u001b[39;00m:\n\u001b[32m   2013\u001b[39m     \u001b[38;5;66;03m# This happens if SIGCLD is set to be ignored or waiting\u001b[39;00m\n\u001b[32m   2014\u001b[39m     \u001b[38;5;66;03m# for child processes has otherwise been disabled for our\u001b[39;00m\n\u001b[32m   2015\u001b[39m     \u001b[38;5;66;03m# process.  This child is dead, we can't get the status.\u001b[39;00m\n\u001b[32m   2016\u001b[39m     pid = \u001b[38;5;28mself\u001b[39m.pid\n",
      "\u001b[31mKeyboardInterrupt\u001b[39m: "
     ]
    }
   ],
   "source": [
    "from Prompts import prompter\n",
    "i = -1\n",
    "nb_questions = len(questions)\n",
    "history = []\n",
    "final_answers= [\"Answer not found\"] * nb_questions  # Initialize with default answer\n",
    "previous_input = None\n",
    "output1 = None\n",
    "# Main control loop\n",
    "while i < nb_questions:\n",
    "    user_input = input(\"\\nChoose:\\n1. Next Question\\n2. Analyze/Continue\\n3. Exit\\n>>> \")\n",
    "    if previous_input is None and user_input not in [\"1\", \"3\"]:\n",
    "        print(\"❌ You must start with option 1.\")\n",
    "        continue\n",
    "\n",
    "    \n",
    "    if user_input == previous_input and user_input == \"1\":\n",
    "        print(\"❌ You already chose 1. You must alternate between 1 and 2.\")\n",
    "        continue\n",
    "\n",
    "    previous_input = user_input  # Store the last input for validation\n",
    "    \n",
    "    # start the task or jump to the next question\n",
    "    if user_input == \"1\":\n",
    "        if i == nb_questions - 1:  # condition that stops the loop when all questions are answered\n",
    "            print(\"✅ Task finished.\")\n",
    "            break\n",
    "        i += 1\n",
    "        prompt = prompter.prompt_tool1_zero_shot(i, scenario, tools, file, questions)    #first prompt for tool1\n",
    "        history = [{\"role\": \"system\", \"text\": [prompt]}]  # resets the history\n",
    "        output1 = Tool1(history)\n",
    "        print(f\"🛠️ Command generated for question {i+1} by tool 1: {output1}\")\n",
    "        ExecuteCmd(output1)  # Execute the command generated by Tool1\n",
    "        \n",
    "        prompt = prompter.prompt_tool2_zero_shot(i, scenario, tools, file, questions)    #first prompt for tool2\n",
    "        history=[{\"role\": \"system\", \"text\": [prompt]}]  # initialized here so tool 2  has the prompt in the start of responding to a quest \n",
    "    \n",
    "    # further analyzing the same question\n",
    "    elif user_input == \"2\":\n",
    "        output1 = tool2(history, output1)\n",
    "        print(f\"📜{history}\")\n",
    "        if \"final answer:\" in output1.lower():\n",
    "            final_answers[i] = output1.lower().split(\"final answer:\")[-1].strip()\n",
    "            print(f\"✅ Answer to the question {i+1}: {final_answers[i]}, click 1 to move to next question\")\n",
    "            \n",
    "        else:\n",
    "            print(f\"🛠️ New command: {output1}, press 2 to execute it \")\n",
    "            ExecuteCmd(output1)\n",
    "        \n",
    "    # exit the loop\n",
    "    elif user_input == \"3\":\n",
    "        print(\"⛔ Stopped by user.\")\n",
    "        break\n",
    "\n",
    "    else:\n",
    "        print(\"⚠️ Invalid input. Please enter 1, 2, or 3.\")\n"
   ]
  },
  {
   "cell_type": "code",
   "execution_count": 6,
   "id": "6afbe548",
   "metadata": {},
   "outputs": [
    {
     "name": "stdout",
     "output_type": "stream",
     "text": [
      "['10.251.96.4', '1-277', 'tcp connect scan', 'Answer not found', 'login.php', 'Answer not found', 'Answer not found', 'Answer not found', 'Answer not found', 'Answer not found']\n"
     ]
    }
   ],
   "source": [
    "print(final_answers)"
   ]
  },
  {
   "cell_type": "code",
   "execution_count": 7,
   "id": "c23c9161",
   "metadata": {},
   "outputs": [
    {
     "name": "stdout",
     "output_type": "stream",
     "text": [
      "Answers saved to Evaluation/tool_augmented/zero_shot/na2.txt\n"
     ]
    }
   ],
   "source": [
    "#saves all the answers to a file for evaluation\n",
    "base_name = os.path.splitext(os.path.basename(file_path))[0]\n",
    "\n",
    "output_file = os.path.join(\"Evaluation\",\"tool_augmented\",\"zero_shot\", f\"{base_name}.txt\")\n",
    "\n",
    "with open(output_file, 'w') as f:\n",
    "    for answer in final_answers:\n",
    "        f.write(answer + \"\\n\")\n",
    "\n",
    "print(f\"Answers saved to {output_file}\")"
   ]
  }
 ],
 "metadata": {
  "kernelspec": {
   "display_name": "venv",
   "language": "python",
   "name": "python3"
  },
  "language_info": {
   "codemirror_mode": {
    "name": "ipython",
    "version": 3
   },
   "file_extension": ".py",
   "mimetype": "text/x-python",
   "name": "python",
   "nbconvert_exporter": "python",
   "pygments_lexer": "ipython3",
   "version": "3.12.3"
  }
 },
 "nbformat": 4,
 "nbformat_minor": 5
}
